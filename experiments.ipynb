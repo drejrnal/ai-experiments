{
 "cells": [
  {
   "cell_type": "code",
   "execution_count": 2,
   "id": "6bda79fc-afbc-4a2d-9d1d-00ebff820bee",
   "metadata": {},
   "outputs": [],
   "source": [
    "import torch\n",
    "import torch.nn as nn"
   ]
  },
  {
   "cell_type": "code",
   "execution_count": 3,
   "id": "9361eebe-6755-4c01-8099-14b61c28fb6c",
   "metadata": {},
   "outputs": [],
   "source": [
    "fc1 = nn.Linear(10,5)"
   ]
  },
  {
   "cell_type": "code",
   "execution_count": 4,
   "id": "313bf8b7-2c52-4c76-99fe-e686a044df75",
   "metadata": {
    "scrolled": true
   },
   "outputs": [
    {
     "data": {
      "text/plain": [
       "Linear(in_features=10, out_features=5, bias=True)"
      ]
     },
     "execution_count": 4,
     "metadata": {},
     "output_type": "execute_result"
    }
   ],
   "source": [
    "fc1"
   ]
  },
  {
   "cell_type": "code",
   "execution_count": 7,
   "id": "32f2f02f-7abd-4850-ab77-bebe5f8fbeda",
   "metadata": {},
   "outputs": [
    {
     "name": "stdout",
     "output_type": "stream",
     "text": [
      "Parameter containing:\n",
      "tensor([[-1.9369e-01,  4.2311e-02, -2.2927e-01, -2.7964e-01, -1.7322e-01,\n",
      "          1.6281e-01,  7.3655e-02,  3.0027e-01, -1.8303e-01,  1.9500e-01],\n",
      "        [ 2.9914e-01, -7.0822e-04,  2.1126e-01, -2.7577e-02,  2.2764e-01,\n",
      "         -2.4933e-01,  1.2746e-01,  2.1161e-01, -2.7977e-01,  1.2242e-01],\n",
      "        [-1.4809e-02, -3.1007e-01, -2.6664e-01, -3.1597e-01, -1.4240e-01,\n",
      "         -2.1405e-01,  2.6928e-01,  2.7831e-01, -6.2504e-02, -1.6097e-01],\n",
      "        [ 2.6898e-02,  9.2537e-02, -8.2373e-02,  2.8629e-01,  6.6600e-02,\n",
      "         -3.9573e-02, -8.7728e-02, -2.7368e-01, -8.3914e-02, -2.3650e-02],\n",
      "        [ 9.5672e-02,  1.9804e-01, -1.6181e-02,  8.9480e-02, -2.9798e-01,\n",
      "         -2.8923e-01, -1.8400e-01,  1.1373e-04, -1.6899e-01,  1.0547e-01]],\n",
      "       requires_grad=True)\n",
      "Parameter containing:\n",
      "tensor([-0.1434, -0.2944,  0.1746, -0.2238, -0.0883], requires_grad=True)\n"
     ]
    }
   ],
   "source": [
    "for param in fc1.parameters():\n",
    "    print(param)"
   ]
  },
  {
   "cell_type": "code",
   "execution_count": null,
   "id": "90a3470d-530e-4fdf-bd85-150007b7263e",
   "metadata": {},
   "outputs": [],
   "source": []
  }
 ],
 "metadata": {
  "kernelspec": {
   "display_name": "Python 3 (ipykernel)",
   "language": "python",
   "name": "python3"
  },
  "language_info": {
   "codemirror_mode": {
    "name": "ipython",
    "version": 3
   },
   "file_extension": ".py",
   "mimetype": "text/x-python",
   "name": "python",
   "nbconvert_exporter": "python",
   "pygments_lexer": "ipython3",
   "version": "3.11.8"
  }
 },
 "nbformat": 4,
 "nbformat_minor": 5
}
